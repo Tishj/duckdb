{
 "cells": [
  {
   "cell_type": "code",
   "execution_count": 1,
   "metadata": {},
   "outputs": [],
   "source": [
    "import duckdb"
   ]
  },
  {
   "cell_type": "code",
   "execution_count": 2,
   "metadata": {},
   "outputs": [],
   "source": [
    "from duckdb import func"
   ]
  },
  {
   "cell_type": "markdown",
   "metadata": {},
   "source": [
    "# Example"
   ]
  },
  {
   "cell_type": "code",
   "execution_count": 9,
   "metadata": {},
   "outputs": [],
   "source": [
    "from duckdb import ColumnExpression as col\n",
    "from duckdb import ConstantExpression as lit"
   ]
  },
  {
   "cell_type": "code",
   "execution_count": 11,
   "metadata": {},
   "outputs": [],
   "source": [
    "import pandas\n",
    "\n",
    "input_df = pandas.DataFrame.from_dict(\n",
    "    {\"i\": [1, 2, 3, 4], \"j\": [\"one\", \"two\", \"three\", \"four\"], \"k\": [4, 3, 2, 1]}\n",
    ")"
   ]
  },
  {
   "cell_type": "code",
   "execution_count": 15,
   "metadata": {},
   "outputs": [
    {
     "data": {
      "text/plain": [
       "┌───────┬─────────┬───────┐\n",
       "│   i   │    j    │   k   │\n",
       "│ int64 │ varchar │ int64 │\n",
       "├───────┼─────────┼───────┤\n",
       "│     1 │ one     │     4 │\n",
       "│     2 │ two     │     3 │\n",
       "│     3 │ three   │     2 │\n",
       "│     4 │ four    │     1 │\n",
       "└───────┴─────────┴───────┘"
      ]
     },
     "execution_count": 15,
     "metadata": {},
     "output_type": "execute_result"
    }
   ],
   "source": [
    "rel = duckdb.from_df(input_df)\n",
    "rel\n"
   ]
  },
  {
   "cell_type": "code",
   "execution_count": 16,
   "metadata": {},
   "outputs": [
    {
     "data": {
      "text/plain": [
       "┌────────────┬───────────┬───────┬───────┬──────────────┐\n",
       "│   today    │  j_split  │   i   │   k   │ greatest_i_k │\n",
       "│    date    │ varchar[] │ int64 │ int64 │    int64     │\n",
       "├────────────┼───────────┼───────┼───────┼──────────────┤\n",
       "│ 2024-05-27 │ [one]     │     1 │     4 │            4 │\n",
       "│ 2024-05-27 │ [two]     │     2 │     3 │            3 │\n",
       "│ 2024-05-27 │ [th, ee]  │     3 │     2 │            3 │\n",
       "│ 2024-05-27 │ [fou, ]   │     4 │     1 │            4 │\n",
       "└────────────┴───────────┴───────┴───────┴──────────────┘"
      ]
     },
     "execution_count": 16,
     "metadata": {},
     "output_type": "execute_result"
    }
   ],
   "source": [
    "# Would be great if there is a way to add a column instead of\n",
    "# having to mention all again?\n",
    "rel.project(\n",
    "    func.today().alias(\"today\"),\n",
    "    func.string_split(col(\"j\"), lit(\"r\")).alias(\"j_split\"),\n",
    "    \"i\",\n",
    "    \"k\",\n",
    "    func.greatest(col(\"i\"), col(\"k\")).alias(\"greatest_i_k\"),\n",
    ")"
   ]
  }
 ],
 "metadata": {
  "kernelspec": {
   "display_name": ".venv",
   "language": "python",
   "name": "python3"
  },
  "language_info": {
   "codemirror_mode": {
    "name": "ipython",
    "version": 3
   },
   "file_extension": ".py",
   "mimetype": "text/x-python",
   "name": "python",
   "nbconvert_exporter": "python",
   "pygments_lexer": "ipython3",
   "version": "3.11.6"
  }
 },
 "nbformat": 4,
 "nbformat_minor": 2
}
